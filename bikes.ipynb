{
  "nbformat": 4,
  "nbformat_minor": 0,
  "metadata": {
    "colab": {
      "name": "bikes.ipynb",
      "provenance": [],
      "collapsed_sections": []
    },
    "kernelspec": {
      "name": "python3",
      "display_name": "Python 3"
    },
    "language_info": {
      "name": "python"
    }
  },
  "cells": [
    {
      "cell_type": "code",
      "execution_count": 1,
      "metadata": {
        "id": "XtyFwu-phYmH"
      },
      "outputs": [],
      "source": [
        "import pandas as pd\n",
        "import numpy as np\n",
        "\n",
        "from datetime import datetime\n",
        "from collections import namedtuple\n",
        "\n",
        "import codecs"
      ]
    },
    {
      "cell_type": "code",
      "source": [
        "# Start by connecting gdrive into the google colab\n",
        "\n",
        "#from google.colab import drive\n",
        "\n",
        "#drive.mount('/content/gdrive')"
      ],
      "metadata": {
        "id": "uJ6APUFGhc9G"
      },
      "execution_count": 2,
      "outputs": []
    },
    {
      "cell_type": "markdown",
      "source": [
        "#1 load the data:\n",
        "Load the data into the solution. Please mind the schema/data types of fields."
      ],
      "metadata": {
        "id": "wZ7U3VQ6hjuQ"
      }
    },
    {
      "cell_type": "code",
      "source": [
        "# reading the data from the google drive\n",
        "\n",
        "df = pd.read_csv(\n",
        "    \"https://github.com/TanjaMenkovic/task/blob/main/data.zip?raw=true\", \n",
        "    compression='zip',\n",
        "    encoding = 'unicode_escape',\n",
        "    sep=';'\n",
        "    )\n",
        "df.head()"
      ],
      "metadata": {
        "id": "0hVK8-JMhkRW",
        "colab": {
          "base_uri": "https://localhost:8080/",
          "height": 421
        },
        "outputId": "ce37bced-7215-4a60-e990-3898d55ca6eb"
      },
      "execution_count": 3,
      "outputs": [
        {
          "output_type": "execute_result",
          "data": {
            "text/plain": [
              "   Lainaus ID  Pyörän ID        Lainausaika  Lainauspaikan ID   Lainauspaikka  \\\n",
              "0      592271          9  26.4.2021 7.20.12              40.0          JYNKKÄ   \n",
              "1      592272        117  26.4.2021 7.29.21              20.0  TASAVALLANKATU   \n",
              "2      592275         46  26.4.2021 7.32.12               2.0            TORI   \n",
              "3      592276         20  26.4.2021 7.33.21               2.0            TORI   \n",
              "4      592277        267  26.4.2021 7.35.50               2.0            TORI   \n",
              "\n",
              "        Lainauksen koordinaatit Lainauksen tyyppi       Palautusaika  \\\n",
              "0          62.855023, 27.642339             ebike  26.4.2021 7.40.39   \n",
              "1          62.881166, 27.663587          freebike  26.4.2021 7.44.48   \n",
              "2  62.8930869444, 27.6790419444             ebike  26.4.2021 7.32.56   \n",
              "3  62.8930869444, 27.6790419444             ebike  26.4.2021 7.40.17   \n",
              "4  62.8930869444, 27.6790419444             ebike  26.4.2021 7.44.37   \n",
              "\n",
              "   Palautuspaikan ID Palautuspaikka  ... Kokonaiskesto Lainauksen hinta  \\\n",
              "0               23.0     VIESTIKATU  ...       0:20:26             1,05   \n",
              "1               12.0    MICROTEKNIA  ...       0:15:27              0,8   \n",
              "2                2.0           TORI  ...       0:00:44             0,05   \n",
              "3               23.0     VIESTIKATU  ...       0:06:56             0,35   \n",
              "4               14.0     SNELLMANIA  ...       0:08:47             0,45   \n",
              "\n",
              "  Keskeytyksen hinta Kokonaishinta Kauppaehdot  Huoltolainaus Arvostelu  \\\n",
              "0                NaN          1,05   MIN-HINTA              0       NaN   \n",
              "1                NaN           0,8   MIN-HINTA              0       NaN   \n",
              "2                NaN          0,05   MIN-HINTA              0       NaN   \n",
              "3                NaN          0,35   MIN-HINTA              0       NaN   \n",
              "4                NaN          0,45   MIN-HINTA              0       NaN   \n",
              "\n",
              "  Kulutettu energia Wh  Korjattu energia Wh  Matkan pituus m  \n",
              "0                 35,4                  2,4             6190  \n",
              "1                    0                  1,7             2940  \n",
              "2                    0                    0                0  \n",
              "3                 10,2                  0,5             2090  \n",
              "4                 18,2                  1,1             2660  \n",
              "\n",
              "[5 rows x 23 columns]"
            ],
            "text/html": [
              "\n",
              "  <div id=\"df-95b084a4-7439-4c10-8e5c-852c42369611\">\n",
              "    <div class=\"colab-df-container\">\n",
              "      <div>\n",
              "<style scoped>\n",
              "    .dataframe tbody tr th:only-of-type {\n",
              "        vertical-align: middle;\n",
              "    }\n",
              "\n",
              "    .dataframe tbody tr th {\n",
              "        vertical-align: top;\n",
              "    }\n",
              "\n",
              "    .dataframe thead th {\n",
              "        text-align: right;\n",
              "    }\n",
              "</style>\n",
              "<table border=\"1\" class=\"dataframe\">\n",
              "  <thead>\n",
              "    <tr style=\"text-align: right;\">\n",
              "      <th></th>\n",
              "      <th>Lainaus ID</th>\n",
              "      <th>Pyörän ID</th>\n",
              "      <th>Lainausaika</th>\n",
              "      <th>Lainauspaikan ID</th>\n",
              "      <th>Lainauspaikka</th>\n",
              "      <th>Lainauksen koordinaatit</th>\n",
              "      <th>Lainauksen tyyppi</th>\n",
              "      <th>Palautusaika</th>\n",
              "      <th>Palautuspaikan ID</th>\n",
              "      <th>Palautuspaikka</th>\n",
              "      <th>...</th>\n",
              "      <th>Kokonaiskesto</th>\n",
              "      <th>Lainauksen hinta</th>\n",
              "      <th>Keskeytyksen hinta</th>\n",
              "      <th>Kokonaishinta</th>\n",
              "      <th>Kauppaehdot</th>\n",
              "      <th>Huoltolainaus</th>\n",
              "      <th>Arvostelu</th>\n",
              "      <th>Kulutettu energia Wh</th>\n",
              "      <th>Korjattu energia Wh</th>\n",
              "      <th>Matkan pituus m</th>\n",
              "    </tr>\n",
              "  </thead>\n",
              "  <tbody>\n",
              "    <tr>\n",
              "      <th>0</th>\n",
              "      <td>592271</td>\n",
              "      <td>9</td>\n",
              "      <td>26.4.2021 7.20.12</td>\n",
              "      <td>40.0</td>\n",
              "      <td>JYNKKÄ</td>\n",
              "      <td>62.855023, 27.642339</td>\n",
              "      <td>ebike</td>\n",
              "      <td>26.4.2021 7.40.39</td>\n",
              "      <td>23.0</td>\n",
              "      <td>VIESTIKATU</td>\n",
              "      <td>...</td>\n",
              "      <td>0:20:26</td>\n",
              "      <td>1,05</td>\n",
              "      <td>NaN</td>\n",
              "      <td>1,05</td>\n",
              "      <td>MIN-HINTA</td>\n",
              "      <td>0</td>\n",
              "      <td>NaN</td>\n",
              "      <td>35,4</td>\n",
              "      <td>2,4</td>\n",
              "      <td>6190</td>\n",
              "    </tr>\n",
              "    <tr>\n",
              "      <th>1</th>\n",
              "      <td>592272</td>\n",
              "      <td>117</td>\n",
              "      <td>26.4.2021 7.29.21</td>\n",
              "      <td>20.0</td>\n",
              "      <td>TASAVALLANKATU</td>\n",
              "      <td>62.881166, 27.663587</td>\n",
              "      <td>freebike</td>\n",
              "      <td>26.4.2021 7.44.48</td>\n",
              "      <td>12.0</td>\n",
              "      <td>MICROTEKNIA</td>\n",
              "      <td>...</td>\n",
              "      <td>0:15:27</td>\n",
              "      <td>0,8</td>\n",
              "      <td>NaN</td>\n",
              "      <td>0,8</td>\n",
              "      <td>MIN-HINTA</td>\n",
              "      <td>0</td>\n",
              "      <td>NaN</td>\n",
              "      <td>0</td>\n",
              "      <td>1,7</td>\n",
              "      <td>2940</td>\n",
              "    </tr>\n",
              "    <tr>\n",
              "      <th>2</th>\n",
              "      <td>592275</td>\n",
              "      <td>46</td>\n",
              "      <td>26.4.2021 7.32.12</td>\n",
              "      <td>2.0</td>\n",
              "      <td>TORI</td>\n",
              "      <td>62.8930869444, 27.6790419444</td>\n",
              "      <td>ebike</td>\n",
              "      <td>26.4.2021 7.32.56</td>\n",
              "      <td>2.0</td>\n",
              "      <td>TORI</td>\n",
              "      <td>...</td>\n",
              "      <td>0:00:44</td>\n",
              "      <td>0,05</td>\n",
              "      <td>NaN</td>\n",
              "      <td>0,05</td>\n",
              "      <td>MIN-HINTA</td>\n",
              "      <td>0</td>\n",
              "      <td>NaN</td>\n",
              "      <td>0</td>\n",
              "      <td>0</td>\n",
              "      <td>0</td>\n",
              "    </tr>\n",
              "    <tr>\n",
              "      <th>3</th>\n",
              "      <td>592276</td>\n",
              "      <td>20</td>\n",
              "      <td>26.4.2021 7.33.21</td>\n",
              "      <td>2.0</td>\n",
              "      <td>TORI</td>\n",
              "      <td>62.8930869444, 27.6790419444</td>\n",
              "      <td>ebike</td>\n",
              "      <td>26.4.2021 7.40.17</td>\n",
              "      <td>23.0</td>\n",
              "      <td>VIESTIKATU</td>\n",
              "      <td>...</td>\n",
              "      <td>0:06:56</td>\n",
              "      <td>0,35</td>\n",
              "      <td>NaN</td>\n",
              "      <td>0,35</td>\n",
              "      <td>MIN-HINTA</td>\n",
              "      <td>0</td>\n",
              "      <td>NaN</td>\n",
              "      <td>10,2</td>\n",
              "      <td>0,5</td>\n",
              "      <td>2090</td>\n",
              "    </tr>\n",
              "    <tr>\n",
              "      <th>4</th>\n",
              "      <td>592277</td>\n",
              "      <td>267</td>\n",
              "      <td>26.4.2021 7.35.50</td>\n",
              "      <td>2.0</td>\n",
              "      <td>TORI</td>\n",
              "      <td>62.8930869444, 27.6790419444</td>\n",
              "      <td>ebike</td>\n",
              "      <td>26.4.2021 7.44.37</td>\n",
              "      <td>14.0</td>\n",
              "      <td>SNELLMANIA</td>\n",
              "      <td>...</td>\n",
              "      <td>0:08:47</td>\n",
              "      <td>0,45</td>\n",
              "      <td>NaN</td>\n",
              "      <td>0,45</td>\n",
              "      <td>MIN-HINTA</td>\n",
              "      <td>0</td>\n",
              "      <td>NaN</td>\n",
              "      <td>18,2</td>\n",
              "      <td>1,1</td>\n",
              "      <td>2660</td>\n",
              "    </tr>\n",
              "  </tbody>\n",
              "</table>\n",
              "<p>5 rows × 23 columns</p>\n",
              "</div>\n",
              "      <button class=\"colab-df-convert\" onclick=\"convertToInteractive('df-95b084a4-7439-4c10-8e5c-852c42369611')\"\n",
              "              title=\"Convert this dataframe to an interactive table.\"\n",
              "              style=\"display:none;\">\n",
              "        \n",
              "  <svg xmlns=\"http://www.w3.org/2000/svg\" height=\"24px\"viewBox=\"0 0 24 24\"\n",
              "       width=\"24px\">\n",
              "    <path d=\"M0 0h24v24H0V0z\" fill=\"none\"/>\n",
              "    <path d=\"M18.56 5.44l.94 2.06.94-2.06 2.06-.94-2.06-.94-.94-2.06-.94 2.06-2.06.94zm-11 1L8.5 8.5l.94-2.06 2.06-.94-2.06-.94L8.5 2.5l-.94 2.06-2.06.94zm10 10l.94 2.06.94-2.06 2.06-.94-2.06-.94-.94-2.06-.94 2.06-2.06.94z\"/><path d=\"M17.41 7.96l-1.37-1.37c-.4-.4-.92-.59-1.43-.59-.52 0-1.04.2-1.43.59L10.3 9.45l-7.72 7.72c-.78.78-.78 2.05 0 2.83L4 21.41c.39.39.9.59 1.41.59.51 0 1.02-.2 1.41-.59l7.78-7.78 2.81-2.81c.8-.78.8-2.07 0-2.86zM5.41 20L4 18.59l7.72-7.72 1.47 1.35L5.41 20z\"/>\n",
              "  </svg>\n",
              "      </button>\n",
              "      \n",
              "  <style>\n",
              "    .colab-df-container {\n",
              "      display:flex;\n",
              "      flex-wrap:wrap;\n",
              "      gap: 12px;\n",
              "    }\n",
              "\n",
              "    .colab-df-convert {\n",
              "      background-color: #E8F0FE;\n",
              "      border: none;\n",
              "      border-radius: 50%;\n",
              "      cursor: pointer;\n",
              "      display: none;\n",
              "      fill: #1967D2;\n",
              "      height: 32px;\n",
              "      padding: 0 0 0 0;\n",
              "      width: 32px;\n",
              "    }\n",
              "\n",
              "    .colab-df-convert:hover {\n",
              "      background-color: #E2EBFA;\n",
              "      box-shadow: 0px 1px 2px rgba(60, 64, 67, 0.3), 0px 1px 3px 1px rgba(60, 64, 67, 0.15);\n",
              "      fill: #174EA6;\n",
              "    }\n",
              "\n",
              "    [theme=dark] .colab-df-convert {\n",
              "      background-color: #3B4455;\n",
              "      fill: #D2E3FC;\n",
              "    }\n",
              "\n",
              "    [theme=dark] .colab-df-convert:hover {\n",
              "      background-color: #434B5C;\n",
              "      box-shadow: 0px 1px 3px 1px rgba(0, 0, 0, 0.15);\n",
              "      filter: drop-shadow(0px 1px 2px rgba(0, 0, 0, 0.3));\n",
              "      fill: #FFFFFF;\n",
              "    }\n",
              "  </style>\n",
              "\n",
              "      <script>\n",
              "        const buttonEl =\n",
              "          document.querySelector('#df-95b084a4-7439-4c10-8e5c-852c42369611 button.colab-df-convert');\n",
              "        buttonEl.style.display =\n",
              "          google.colab.kernel.accessAllowed ? 'block' : 'none';\n",
              "\n",
              "        async function convertToInteractive(key) {\n",
              "          const element = document.querySelector('#df-95b084a4-7439-4c10-8e5c-852c42369611');\n",
              "          const dataTable =\n",
              "            await google.colab.kernel.invokeFunction('convertToInteractive',\n",
              "                                                     [key], {});\n",
              "          if (!dataTable) return;\n",
              "\n",
              "          const docLinkHtml = 'Like what you see? Visit the ' +\n",
              "            '<a target=\"_blank\" href=https://colab.research.google.com/notebooks/data_table.ipynb>data table notebook</a>'\n",
              "            + ' to learn more about interactive tables.';\n",
              "          element.innerHTML = '';\n",
              "          dataTable['output_type'] = 'display_data';\n",
              "          await google.colab.output.renderOutput(dataTable, element);\n",
              "          const docLink = document.createElement('div');\n",
              "          docLink.innerHTML = docLinkHtml;\n",
              "          element.appendChild(docLink);\n",
              "        }\n",
              "      </script>\n",
              "    </div>\n",
              "  </div>\n",
              "  "
            ]
          },
          "metadata": {},
          "execution_count": 3
        }
      ]
    },
    {
      "cell_type": "code",
      "source": [
        "df.dtypes"
      ],
      "metadata": {
        "id": "Y-n0K3PTho4L",
        "colab": {
          "base_uri": "https://localhost:8080/"
        },
        "outputId": "14d1b67b-d8cd-4ba0-8e72-b38e9e4a570e"
      },
      "execution_count": 4,
      "outputs": [
        {
          "output_type": "execute_result",
          "data": {
            "text/plain": [
              "Lainaus ID                    int64\n",
              "Pyörän ID                     int64\n",
              "Lainausaika                  object\n",
              "Lainauspaikan ID            float64\n",
              "Lainauspaikka                object\n",
              "Lainauksen koordinaatit      object\n",
              "Lainauksen tyyppi            object\n",
              "Palautusaika                 object\n",
              "Palautuspaikan ID           float64\n",
              "Palautuspaikka               object\n",
              "Palautuksen koordinaatit     object\n",
              "Lainauksen kesto             object\n",
              "Keskeytyksen kesto           object\n",
              "Kokonaiskesto                object\n",
              "Lainauksen hinta             object\n",
              "Keskeytyksen hinta          float64\n",
              "Kokonaishinta                object\n",
              "Kauppaehdot                  object\n",
              "Huoltolainaus                 int64\n",
              "Arvostelu                   float64\n",
              "Kulutettu energia Wh         object\n",
              "Korjattu energia Wh          object\n",
              "Matkan pituus m               int64\n",
              "dtype: object"
            ]
          },
          "metadata": {},
          "execution_count": 4
        }
      ]
    },
    {
      "cell_type": "code",
      "source": [
        "# changing date and time into datetime type:\n",
        "df['Lainausaika'] = pd.to_datetime(df['Lainausaika'], format=\"%d.%m.%Y %H.%M.%S\")\n",
        "df['Palautusaika'] = pd.to_datetime(df['Palautusaika'], format=\"%d.%m.%Y %H.%M.%S\")"
      ],
      "metadata": {
        "id": "emgoI65hhvJ_"
      },
      "execution_count": 5,
      "outputs": []
    },
    {
      "cell_type": "code",
      "source": [
        "def dec(row, col):\n",
        "  if pd.notna(row[col]):\n",
        "    pom = row[col].replace(',', '.')\n",
        "    pom = float(pom)\n",
        "    return pom\n",
        "  else:\n",
        "    return None\n",
        "\n",
        "df['Lainauksen hinta'] = df.apply(lambda row: dec(row, 'Lainauksen hinta'), axis=1)\n",
        "df['Kokonaishinta'] = df.apply(lambda row: dec(row, 'Kokonaishinta'), axis=1)\n",
        "df['Kulutettu energia Wh'] = df.apply(lambda row: dec(row, 'Kulutettu energia Wh'), axis=1)\n",
        "df['Korjattu energia Wh'] = df.apply(lambda row: dec(row, 'Korjattu energia Wh'), axis=1)"
      ],
      "metadata": {
        "id": "L6_E0MowhwT8"
      },
      "execution_count": null,
      "outputs": []
    },
    {
      "cell_type": "code",
      "source": [
        "df.dtypes"
      ],
      "metadata": {
        "id": "1RZLeyp1h2T4"
      },
      "execution_count": null,
      "outputs": []
    },
    {
      "cell_type": "markdown",
      "source": [
        "#2 Warmup\n",
        "How many trips/entries does the dataset contain? And how many unique bike ids?"
      ],
      "metadata": {
        "id": "jCADIMEjh5jz"
      }
    },
    {
      "cell_type": "code",
      "source": [
        "df.shape"
      ],
      "metadata": {
        "id": "r29XdrXBh3L0"
      },
      "execution_count": null,
      "outputs": []
    },
    {
      "cell_type": "code",
      "source": [
        "len(df)"
      ],
      "metadata": {
        "id": "WKBqzeIliWYD"
      },
      "execution_count": null,
      "outputs": []
    },
    {
      "cell_type": "code",
      "source": [
        "df['Pyörän ID'].unique().sum()"
      ],
      "metadata": {
        "id": "C0CRamMCiS6g"
      },
      "execution_count": null,
      "outputs": []
    },
    {
      "cell_type": "markdown",
      "source": [
        "There is 344099 entries and 36585 unique bike ids."
      ],
      "metadata": {
        "id": "NuosfcbmifXk"
      }
    },
    {
      "cell_type": "markdown",
      "source": [
        "#3 Trips\n",
        "Fields\n",
        "\n",
        "Bike id is Pyörän ID\n",
        "Trip length in meters is Matkan pituus m\n",
        "Questions\n",
        "\n",
        "Which three bikes had the least trips? How many trips did each have?\n",
        "Which three bikes had the most trips? How many trips did each have?\n",
        "Which three bikes travelled the least distance during the year? Show the distance in kilometers.\n",
        "Which bikes travelled over 4500 km during the season if any?"
      ],
      "metadata": {
        "id": "zgcIyYdwigLm"
      }
    },
    {
      "cell_type": "code",
      "source": [
        "df['Pyörän ID'].value_counts()"
      ],
      "metadata": {
        "id": "P2cxBt6EijTO"
      },
      "execution_count": null,
      "outputs": []
    },
    {
      "cell_type": "markdown",
      "source": [
        "3 bikes with the least trips were:\n",
        "* Bike with ID 226 has 4 trips.\n",
        "* Bike with ID 173 has 578 trips.\n",
        "* Bike with ID 254 has 605 trips.\n",
        "\n",
        "3 bikes with the most trips were:\n",
        "* Bike with ID 258 has 1659 trips.\n",
        "* Bike with ID 142 has 1631 trips.\n",
        "* Bike with ID 247 has 1593 trips."
      ],
      "metadata": {
        "id": "WtS9a0sPil_U"
      }
    },
    {
      "cell_type": "code",
      "source": [
        "df['Matkan pituus km'] = df['Matkan pituus m']/1000\n",
        "df.head()"
      ],
      "metadata": {
        "id": "ovbbIaa5ip3U"
      },
      "execution_count": null,
      "outputs": []
    },
    {
      "cell_type": "code",
      "source": [
        "df_ID = df.groupby(by=['Pyörän ID']).sum()\n",
        "df_ID['Matkan pituus km'].sort_values()"
      ],
      "metadata": {
        "id": "94K7ZBvUi8fV"
      },
      "execution_count": null,
      "outputs": []
    },
    {
      "cell_type": "markdown",
      "source": [
        "Three bikes travelled the least distance during the year:\n",
        "* Bike ID 226 travelled 0km during the year\n",
        "* Bike ID 254 travelled 1227.4km during the year\n",
        "* Bike ID 173 travelled 1458.41km during the year\n",
        "\n",
        "Bike that travelled over 4500 km during the season is with the ID 258 (4663.38km)."
      ],
      "metadata": {
        "id": "6j8C3nUvjAqL"
      }
    },
    {
      "cell_type": "markdown",
      "source": [
        "#4 Revenue\n",
        "Trip revenue is Kokonaishinta\n",
        "* Which bike made the most revenue?"
      ],
      "metadata": {
        "id": "d0f8HRLqjDza"
      }
    },
    {
      "cell_type": "code",
      "source": [
        "df_ID['Kokonaishinta'].sort_values()"
      ],
      "metadata": {
        "id": "UdPkyaFCjEfa"
      },
      "execution_count": null,
      "outputs": []
    },
    {
      "cell_type": "markdown",
      "source": [
        "Most revenue made bike with ID 95 (910.40)"
      ],
      "metadata": {
        "id": "jDqHLSq9jIfq"
      }
    },
    {
      "cell_type": "markdown",
      "source": [
        "#5 Maintenance\n",
        "Field is Huoltolainaus which is 1 for maintenance.\n",
        "* Count top 5 most maintained bikes. How many times were they taken to\n",
        "maintenance?"
      ],
      "metadata": {
        "id": "cZdX3Y9CjJAm"
      }
    },
    {
      "cell_type": "code",
      "source": [
        "df_ID['Huoltolainaus'].sort_values()"
      ],
      "metadata": {
        "id": "2RnDPiz5jK5U"
      },
      "execution_count": null,
      "outputs": []
    },
    {
      "cell_type": "markdown",
      "source": [
        "Top 5 most maintained bikes are:\n",
        "* Bike with ID 190 was taken to maintenance 131 times\n",
        "* Bike with ID 172 was taken to maintenance 114 times\n",
        "* Bike with ID 43 was taken to maintenance 113 times\n",
        "* Bike with ID 181 was taken to maintenance 109 times\n",
        "* Bike with ID 128 was taken to maintenance 104 times"
      ],
      "metadata": {
        "id": "M06Hyc5LjNi6"
      }
    },
    {
      "cell_type": "markdown",
      "source": [
        "#6 Distances\n",
        "Start coordinates are in Lainauksen koordinaatit and return coords are in Palautuksen\n",
        "koordinaatit.\n",
        "\n",
        "Latitude and longitude for both loans and returns are stuffed in a single field in the dataset. Split them into separate fields and add those new fields into the dataset as new fields\n",
        "preserving the originals. In addition, calculate the distance between start and end (in KM).\n",
        "* Show 5 rows of the result\n",
        "* Which bike was left farthest away from its starting point?\n",
        "* What kind of discrepancies did you identify in the dataset while working with the\n",
        "coordinates, if any?"
      ],
      "metadata": {
        "id": "MHtooLdcjRrQ"
      }
    },
    {
      "cell_type": "code",
      "source": [
        "\"\"\"\n",
        "\n",
        "def coordinate(row, col):\n",
        "  if pd.notna(row[col]):\n",
        "    lat, lon = row[col].split(', ')\n",
        "    lat, lon = float(lat), float(lon)\n",
        "    return lat, lon\n",
        "  else:\n",
        "    return None, None\n",
        "\n",
        "df['Lainauksen lat'], df['Lainauksen lon'] = df.apply(lambda row: coordinate(row, 'Lainauksen koordinaatit'), axis=1)\n",
        "df['Palautuksen koordinaatit'] = df['Palautuksen koordinaatit'].replace('#PUUTTUU!', None)\n",
        "df['Palautuksen lat'], df['Palautuksen lon'] = df.apply(lambda row: coordinate(row, 'Palautuksen koordinaatit'), axis=1)\n",
        "                                                        \n",
        "df.head()\n",
        "\"\"\""
      ],
      "metadata": {
        "id": "M7KWy_f5jT_R"
      },
      "execution_count": null,
      "outputs": []
    },
    {
      "cell_type": "code",
      "source": [
        "def latitude(row, col):\n",
        "   if pd.notna(row[col]):\n",
        "    lat, lon = row[col].split(', ')\n",
        "    lat = float(lat)\n",
        "    return lat\n",
        "   else:\n",
        "    return None\n",
        "\n",
        "def longitude(row, col):\n",
        "   if pd.notna(row[col]):\n",
        "    lat, lon = row[col].split(', ')\n",
        "    lon = float(lon)\n",
        "    return lon\n",
        "   else:\n",
        "    return None\n",
        "\n",
        "df['Lainauksen lat'] = df.apply(lambda row: latitude(row, 'Lainauksen koordinaatit'), axis=1)\n",
        "df['Lainauksen lon'] = df.apply(lambda row: longitude(row, 'Lainauksen koordinaatit'), axis=1)\n",
        "\n",
        "df['Palautuksen koordinaatit'] = df['Palautuksen koordinaatit'].replace('#PUUTTUU!', None)\n",
        "df['Palautuksen lat'] = df.apply(lambda row: latitude(row, 'Palautuksen koordinaatit'), axis=1)\n",
        "df['Palautuksen lon'] = df.apply(lambda row: longitude(row, 'Palautuksen koordinaatit'), axis=1)\n",
        "\n",
        "df.head()"
      ],
      "metadata": {
        "id": "p43I2of3lGlG"
      },
      "execution_count": null,
      "outputs": []
    },
    {
      "cell_type": "code",
      "source": [
        "from math import radians, cos, sin, asin, sqrt\n",
        "\n",
        "def distance(row, lat1, lon1, lat2, lon2):\n",
        "    if pd.notna(row[lat1]) & pd.notna(row[lat2]) & pd.notna(row[lon1]) & pd.notna(row[lon2]):\n",
        "      ln1 = radians(row[lon1])\n",
        "      ln2 = radians(row[lon2])\n",
        "      lt1 = radians(row[lat1])\n",
        "      lt2 = radians(row[lat2])\n",
        "      \n",
        "      # Haversine formula\n",
        "      dlon = ln2 - ln1\n",
        "      dlat = lt2 - lt1\n",
        "      a = sin(dlat / 2)**2 + cos(lt1) * cos(lt2) * sin(dlon / 2)**2\n",
        " \n",
        "      c = 2 * asin(sqrt(a))\n",
        "    \n",
        "      # Radius of earth in kilometers.\n",
        "      r = 6371\n",
        "\n",
        "      return(c * r)\n",
        "\n",
        "    else:\n",
        "      return None\n",
        "\n",
        "df['Distance'] = df.apply(lambda row: distance(row, 'Lainauksen lat', 'Lainauksen lon', 'Palautuksen lat', 'Palautuksen lon'), axis=1)\n",
        "df.head(5)"
      ],
      "metadata": {
        "id": "n0Lh6exqq3ya"
      },
      "execution_count": null,
      "outputs": []
    },
    {
      "cell_type": "code",
      "source": [
        "df_new = df.dropna(subset=['Distance'])\n",
        "df_new[['Pyörän ID', 'Distance']].sort_values(by='Distance')"
      ],
      "metadata": {
        "id": "ShHU02VatT9V"
      },
      "execution_count": null,
      "outputs": []
    },
    {
      "cell_type": "markdown",
      "source": [
        "Bike with ID 95 was left farthest away from its starting point (around 41km).\n",
        "\n",
        "There are some missing values ​​in some rows and also some rows with value '#PUUTTUU!' in column 'Palautuksen koordinaatit', so I needed to treat it all as a None."
      ],
      "metadata": {
        "id": "1Cwz7XQxuasw"
      }
    },
    {
      "cell_type": "markdown",
      "source": [
        "#7 Relational model\n",
        "Design a potential relational model (entity relationship diagram) for a database in\n",
        "which the database could be pushed. Tool choice is free."
      ],
      "metadata": {
        "id": "fwzBDtGLjUJX"
      }
    },
    {
      "cell_type": "code",
      "source": [
        "!pip install sqlalchemy"
      ],
      "metadata": {
        "id": "h-OneC2EjWih"
      },
      "execution_count": null,
      "outputs": []
    },
    {
      "cell_type": "code",
      "source": [
        "from sqlalchemy import create_engine\n",
        "import pandas as pd"
      ],
      "metadata": {
        "id": "KqIhMxi7tpQA"
      },
      "execution_count": null,
      "outputs": []
    },
    {
      "cell_type": "code",
      "source": [
        "# Create the db engine\n",
        "engine = create_engine('sqlite:///:memory:')\n",
        "\n",
        "# Store the dataframe as a table\n",
        "df.to_sql('data_table', engine)\n",
        "\n",
        "# Query 1 on the relational table\n",
        "res1 = pd.read_sql_query('SELECT * FROM data_table', engine)\n",
        "print('Result 1')\n",
        "print(res1)\n",
        "print('')\n",
        "\n",
        "# Query 2 on the relational table\n",
        "res2 = pd.read_sql_query('SELECT dept,sum(salary) FROM data_table group by dept', engine)\n",
        "print('Result 2')\n",
        "print(res2)"
      ],
      "metadata": {
        "id": "azhLkE_PtsqI"
      },
      "execution_count": null,
      "outputs": []
    }
  ]
}